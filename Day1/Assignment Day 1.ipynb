{
 "cells": [
  {
   "cell_type": "markdown",
   "metadata": {},
   "source": [
    "1) Given the following jumbled word, OBANWRI guess the correct English word.\n",
    "\n",
    "- A. RANIBOW\n",
    "- B. RAINBOW\n",
    "- C. BOWRANI\n",
    "- D. ROBWANI\n",
    "\n",
    "\n",
    "**ANS - B -> RAINBOW**"
   ]
  },
  {
   "cell_type": "markdown",
   "metadata": {},
   "source": [
    "2) Write a program which prints “LETS UPGRADE”. (Please note that you have to\n",
    "print in ALL CAPS as given)"
   ]
  },
  {
   "cell_type": "code",
   "execution_count": 1,
   "metadata": {},
   "outputs": [
    {
     "name": "stdout",
     "output_type": "stream",
     "text": [
      "LETS UPGRADE\n"
     ]
    }
   ],
   "source": [
    "print('LETS UPGRADE')"
   ]
  },
  {
   "cell_type": "markdown",
   "metadata": {},
   "source": [
    "3) Write a program that takes cost price and selling price as input and displays whether the transaction is a\n",
    "Profit or a Loss or Neither."
   ]
  },
  {
   "cell_type": "code",
   "execution_count": 6,
   "metadata": {},
   "outputs": [
    {
     "name": "stdout",
     "output_type": "stream",
     "text": [
      "20\n",
      "20\n",
      "Neither\n",
      "------------\n",
      "40\n",
      "80\n",
      "Profit\n",
      "------------\n",
      "50\n",
      "30\n",
      "Loss\n",
      "------------\n"
     ]
    }
   ],
   "source": [
    "n=0\n",
    "#Using while loop to just show 3 test cases\n",
    "while(n!=3):\n",
    "    #Cost Price\n",
    "    cp = float(input())\n",
    "    #Selling Price\n",
    "    sp = float(input())\n",
    "    #Logic\n",
    "    if sp-cp>0:\n",
    "        print('Profit')\n",
    "    elif sp-cp<0:\n",
    "        print('Loss')\n",
    "    else:\n",
    "        print('Neither')\n",
    "    n+=1\n",
    "    print('------------')"
   ]
  },
  {
   "cell_type": "markdown",
   "metadata": {},
   "source": [
    "4) Write a program that takes an amount in Euros as input. You need to find its equivalent in\n",
    "Rupees and display it. Assume 1 Euro equals Rs. 80."
   ]
  },
  {
   "cell_type": "code",
   "execution_count": 10,
   "metadata": {},
   "outputs": [
    {
     "name": "stdout",
     "output_type": "stream",
     "text": [
      "20\n",
      "1600\n"
     ]
    }
   ],
   "source": [
    "print(80*int(input()))"
   ]
  }
 ],
 "metadata": {
  "kernelspec": {
   "display_name": "Python 3",
   "language": "python",
   "name": "python3"
  },
  "language_info": {
   "codemirror_mode": {
    "name": "ipython",
    "version": 3
   },
   "file_extension": ".py",
   "mimetype": "text/x-python",
   "name": "python",
   "nbconvert_exporter": "python",
   "pygments_lexer": "ipython3",
   "version": "3.8.5"
  }
 },
 "nbformat": 4,
 "nbformat_minor": 4
}
